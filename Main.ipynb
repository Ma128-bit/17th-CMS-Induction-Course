{
 "cells": [
  {
   "cell_type": "code",
   "execution_count": null,
   "id": "6e5dfa2a",
   "metadata": {
    "scrolled": true
   },
   "outputs": [],
   "source": [
    "#!pip install --user cmsdials[pandas,tqdm]"
   ]
  },
  {
   "cell_type": "code",
   "execution_count": null,
   "id": "d5f4c4fe",
   "metadata": {},
   "outputs": [],
   "source": [
    "import os, sys, time\n",
    "import warnings\n",
    "warnings.filterwarnings(\"ignore\", module=\"uhi\")\n",
    "import pandas as pd\n",
    "import numpy as np\n",
    "import matplotlib.pyplot as plt\n",
    "import mplhep as hep\n",
    "hep.style.use(\"ROOT\")\n",
    "from cmsdials.auth.bearer import Credentials\n",
    "from cmsdials import Dials\n",
    "from cmsdials.filters import RunFilters, LumisectionFilters, MEFilters\n",
    "from cmsdials.filters import LumisectionHistogram2DFilters\n",
    "from utilities import *"
   ]
  },
  {
   "cell_type": "code",
   "execution_count": null,
   "id": "d160df39",
   "metadata": {},
   "outputs": [],
   "source": [
    "# Autentication\n",
    "creds = Credentials.from_creds_file()\n",
    "# workspace definition\n",
    "dials = Dials(creds, workspace=\"csc\")"
   ]
  },
  {
   "cell_type": "code",
   "execution_count": null,
   "id": "bb661984",
   "metadata": {},
   "outputs": [],
   "source": [
    "# Run List: 380292, 380310, 380355, 380377, 380385, 380399, 380444"
   ]
  },
  {
   "cell_type": "code",
   "execution_count": null,
   "id": "ab96d449",
   "metadata": {},
   "outputs": [],
   "source": [
    "run_list_df = dials.run.list_all(\n",
    "    RunFilters(\n",
    "        run_number__gte=380292,\n",
    "        run_number__lte=380446\n",
    "    )\n",
    ").to_pandas()"
   ]
  },
  {
   "cell_type": "code",
   "execution_count": null,
   "id": "f4a3a923",
   "metadata": {},
   "outputs": [],
   "source": [
    "run_list = run_list_df[\"run_number\"].to_numpy()"
   ]
  },
  {
   "cell_type": "code",
   "execution_count": null,
   "id": "db2dd72b",
   "metadata": {
    "scrolled": true
   },
   "outputs": [],
   "source": [
    "my_runs = [380292, 380310, 380355, 380377, 380385, 380399, 380444]\n",
    "my_runs_new = [i for i in my_runs if i in run_list]"
   ]
  },
  {
   "cell_type": "code",
   "execution_count": null,
   "id": "adcfd56f",
   "metadata": {},
   "outputs": [],
   "source": [
    "print(my_runs)\n",
    "print(my_runs_new)"
   ]
  },
  {
   "cell_type": "code",
   "execution_count": null,
   "id": "3138a7ce",
   "metadata": {},
   "outputs": [],
   "source": [
    "from cmsdials.filters import LumisectionHistogram2DFilters\n",
    "start_time = time.perf_counter()\n",
    "data = []\n",
    "for i, run in enumerate(my_runs_new):\n",
    "    data_temp = dials.h2d.list_all(\n",
    "        LumisectionHistogram2DFilters(\n",
    "            me = \"CSC/CSCOfflineMonitor/recHits/hRHGlobalm2\",\n",
    "            dataset = \"/StreamExpress/Run2024D-Express-v1/DQMIO\",\n",
    "            run_number = run,\n",
    "        ),\n",
    "        enable_progress=True,\n",
    "    ).to_pandas()\n",
    "    data.append(data_temp)\n",
    "    del data_temp\n",
    "data = pd.concat(data, axis=0)\n",
    "end_time = time.perf_counter()\n",
    "print(f\"Execution time: {end_time - start_time:.4f} seconds\")"
   ]
  },
  {
   "cell_type": "code",
   "execution_count": null,
   "id": "b5d0d357",
   "metadata": {},
   "outputs": [],
   "source": [
    "data.to_parquet(\"data.parquet\")"
   ]
  },
  {
   "cell_type": "code",
   "execution_count": null,
   "id": "da6c7f3a",
   "metadata": {},
   "outputs": [],
   "source": [
    "data = pd.read_parquet(\"data.parquet\")"
   ]
  },
  {
   "cell_type": "code",
   "execution_count": null,
   "id": "51bdb2af",
   "metadata": {},
   "outputs": [],
   "source": [
    "# Per-LS meta-info retrieved form OMS and RunRegistry\n",
    "lumi_info = pd.read_parquet(\"perLSinfo.parquet\")"
   ]
  },
  {
   "cell_type": "code",
   "execution_count": null,
   "id": "267a1ce3",
   "metadata": {},
   "outputs": [],
   "source": [
    "monitoring_elements = pd.merge(data, lumi_info, on=['run_number', 'ls_number'], how='left') \n",
    "monitoring_elements = monitoring_elements[\n",
    "    (monitoring_elements[\"beams_stable\"] == True) &\n",
    "    (monitoring_elements[\"cscm_ready\"] == True) &\n",
    "    (monitoring_elements[\"cms_active\"] == True) &\n",
    "    (monitoring_elements[\"beam_present\"] == True) &\n",
    "    (monitoring_elements[\"physics_flag\"] == True) &\n",
    "    (monitoring_elements[\"cscSTANDBY\"] == 0) &\n",
    "    (monitoring_elements[\"cscBAD\"] == 0) &\n",
    "    (monitoring_elements[\"cscGOOD\"] != 0) &\n",
    "    (monitoring_elements[\"mean_lumi\"] > 2) &\n",
    "    (monitoring_elements[\"class\"].str.contains(\"Collisions\", na=False))\n",
    "]\n",
    "monitoring_elements = monitoring_elements.sort_values(by=['run_number', 'ls_number']).reset_index()\n",
    "monitoring_elements = monitoring_elements.drop(columns=[\"index\"])"
   ]
  },
  {
   "cell_type": "code",
   "execution_count": null,
   "id": "047c5f43",
   "metadata": {},
   "outputs": [],
   "source": []
  },
  {
   "cell_type": "code",
   "execution_count": null,
   "id": "08bb7921",
   "metadata": {},
   "outputs": [],
   "source": [
    "monitoring_elements[\"group\"] = groupbylumi(monitoring_elements, 300)"
   ]
  },
  {
   "cell_type": "code",
   "execution_count": null,
   "id": "dd48145d",
   "metadata": {},
   "outputs": [],
   "source": [
    "summed_data = monitoring_elements.groupby(\"group\").apply(sum_imgs)\n",
    "summed_data = summed_data[summed_data[\"lumi\"]>300]\n",
    "summed_data = summed_data.reset_index()"
   ]
  },
  {
   "cell_type": "code",
   "execution_count": null,
   "id": "e3083784",
   "metadata": {},
   "outputs": [],
   "source": [
    "np.unique(summed_data[\"run_min\"])"
   ]
  },
  {
   "cell_type": "code",
   "execution_count": null,
   "id": "073723e9",
   "metadata": {},
   "outputs": [],
   "source": [
    "Show2Dimg(summed_data[\"img\"][0]);"
   ]
  },
  {
   "cell_type": "code",
   "execution_count": null,
   "id": "7762ce06",
   "metadata": {},
   "outputs": [],
   "source": [
    "# Apply the function to each row of the DataFrame\n",
    "summed_data[\"new_img\"] = summed_data.apply(\n",
    "    lambda row: mask_outside_radius(row[\"img\"], center=(49.5, 49.5), max_distance=21), axis=1\n",
    ")"
   ]
  },
  {
   "cell_type": "code",
   "execution_count": null,
   "id": "bb274c01",
   "metadata": {},
   "outputs": [],
   "source": [
    "Show2Dimg(summed_data[\"new_img\"][0]);"
   ]
  },
  {
   "cell_type": "code",
   "execution_count": null,
   "id": "efd06205",
   "metadata": {},
   "outputs": [],
   "source": [
    "import torch\n",
    "import torch.nn as nn\n",
    "import torch.nn.functional as F\n",
    "import torch.optim as optim\n",
    "from torch.utils.data import DataLoader, TensorDataset\n",
    "from torchvision import datasets, transforms\n"
   ]
  },
  {
   "cell_type": "code",
   "execution_count": null,
   "id": "1c114121",
   "metadata": {},
   "outputs": [],
   "source": [
    "model = torch.jit.load(\"model.pth\")"
   ]
  },
  {
   "cell_type": "code",
   "execution_count": null,
   "id": "1ec50f93",
   "metadata": {},
   "outputs": [],
   "source": [
    "start_time = time.perf_counter()\n",
    "print(f\"Number of immages to be processed: {len(summed_data)}\")\n",
    "tensor = torch.stack([torch.tensor(m, dtype=torch.float32).unsqueeze(0) for m in summed_data[\"new_img\"]])\n",
    "loader = DataLoader(dataset=tensor, batch_size=128, num_workers=8, shuffle=False)\n",
    "\n",
    "imgs, reco_imgs, loss_imgs = [], [], []\n",
    "\n",
    "model.eval()\n",
    "with torch.no_grad():\n",
    "    for img_batch in loader:\n",
    "        reco_img_batch = model(img_batch)\n",
    "        img_loss_batch = (img_batch - reco_img_batch)[:, 0] / reco_img_batch[:, 0]\n",
    "        #img_loss_batch = F.l1_loss(img_batch, reco_img_batch, reduction='none')[:, 0] / reco_img_batch[:, 0]\n",
    "        loss_imgs.extend(img_loss_batch.numpy())\n",
    "        reco_imgs.extend(reco_img_batch[:, 0].numpy())\n",
    "        imgs.extend(img_batch[:, 0].numpy())\n",
    "        print(\".\", end=\"\", flush=True)\n",
    "end_time = time.perf_counter()\n",
    "print(f\"\\nExecution time: {end_time - start_time:.4f} seconds\")"
   ]
  },
  {
   "cell_type": "code",
   "execution_count": null,
   "id": "23c1a4c7",
   "metadata": {},
   "outputs": [],
   "source": [
    "Show2Dimg(imgs[114])"
   ]
  },
  {
   "cell_type": "code",
   "execution_count": null,
   "id": "3529781b",
   "metadata": {},
   "outputs": [],
   "source": [
    "binary_matrix = (np.mean(np.sum([imgs, reco_imgs], axis=0), axis=0) != 0)\n",
    "rebin_loss_imgs = [rebin_image(image, binary_matrix) for image in loss_imgs]"
   ]
  },
  {
   "cell_type": "code",
   "execution_count": null,
   "id": "488338a6",
   "metadata": {},
   "outputs": [],
   "source": [
    "Show2DLoss(rebin_loss_imgs[0])"
   ]
  },
  {
   "cell_type": "code",
   "execution_count": null,
   "id": "29c636ca",
   "metadata": {},
   "outputs": [],
   "source": [
    "summed_data[\"Max\"] = [np.nanmax(matrix) for matrix in rebin_loss_imgs]\n",
    "summed_data[\"Min\"] = [np.nanmin(matrix) for matrix in rebin_loss_imgs]"
   ]
  },
  {
   "cell_type": "code",
   "execution_count": null,
   "id": "8de8520b",
   "metadata": {},
   "outputs": [],
   "source": [
    "plt.figure(figsize=(10, 6))\n",
    "plt.hist(summed_data[\"Max\"], bins=50, range=(0,4), alpha=0.7, label=\"Max Values\", color='red')\n",
    "plt.xlabel('Max Loss')\n",
    "plt.legend()\n",
    "plt.show()"
   ]
  },
  {
   "cell_type": "code",
   "execution_count": null,
   "id": "0b8e5542",
   "metadata": {},
   "outputs": [],
   "source": [
    "plt.figure(figsize=(10, 6))\n",
    "plt.hist(summed_data[\"Min\"], bins=50, range=(-1.3,0.2),alpha=0.7, label=\"Min Values\", color='blue')\n",
    "plt.xlabel('Min Loss')\n",
    "plt.legend()\n",
    "plt.show()"
   ]
  },
  {
   "cell_type": "code",
   "execution_count": null,
   "id": "d5a2b8f7",
   "metadata": {},
   "outputs": [],
   "source": [
    "summed_data_filter = summed_data[(summed_data[\"Max\"]>0.86) | (summed_data[\"Min\"]<-0.52)]"
   ]
  },
  {
   "cell_type": "code",
   "execution_count": null,
   "id": "498e3af0",
   "metadata": {},
   "outputs": [],
   "source": [
    "np.unique(summed_data_filter[\"run_max\"])"
   ]
  },
  {
   "cell_type": "code",
   "execution_count": null,
   "id": "118b7c08",
   "metadata": {
    "scrolled": true
   },
   "outputs": [],
   "source": [
    "summed_data_filter "
   ]
  },
  {
   "cell_type": "code",
   "execution_count": null,
   "id": "36ddc67a",
   "metadata": {
    "scrolled": false
   },
   "outputs": [],
   "source": [
    "#plot_LSs(monitoring_elements, 380470, (1419, 1447))"
   ]
  },
  {
   "cell_type": "code",
   "execution_count": null,
   "id": "98cdeca4",
   "metadata": {},
   "outputs": [],
   "source": []
  }
 ],
 "metadata": {
  "@webio": {
   "lastCommId": null,
   "lastKernelId": null
  },
  "kernelspec": {
   "display_name": "Python 3",
   "language": "python",
   "name": "python3"
  },
  "language_info": {
   "codemirror_mode": {
    "name": "ipython",
    "version": 3
   },
   "file_extension": ".py",
   "mimetype": "text/x-python",
   "name": "python",
   "nbconvert_exporter": "python",
   "pygments_lexer": "ipython3",
   "version": "3.11.9"
  }
 },
 "nbformat": 4,
 "nbformat_minor": 5
}
