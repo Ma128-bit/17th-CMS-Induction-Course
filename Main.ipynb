{
 "cells": [
  {
   "cell_type": "code",
   "execution_count": null,
   "id": "6e5dfa2a",
   "metadata": {
    "scrolled": true
   },
   "outputs": [],
   "source": [
    "#!pip install --user cmsdials[pandas,tqdm]"
   ]
  },
  {
   "cell_type": "code",
   "execution_count": null,
   "id": "d5f4c4fe",
   "metadata": {},
   "outputs": [],
   "source": [
    "# Standard Libraries\n",
    "import os, sys, time\n",
    "import pandas as pd\n",
    "import numpy as np\n",
    "\n",
    "# cmsdials utilities:\n",
    "from cmsdials.auth.bearer import Credentials\n",
    "from cmsdials import Dials\n",
    "from cmsdials.filters import RunFilters, LumisectionFilters, MEFilters\n",
    "from cmsdials.filters import LumisectionHistogram2DFilters\n",
    "\n",
    "# Import Plotting functions:\n",
    "import matplotlib.pyplot as plt\n",
    "import mplhep as hep\n",
    "hep.style.use(\"ROOT\")\n",
    "\n",
    "# Set of utility functions defined by me:\n",
    "from utilities import *"
   ]
  },
  {
   "cell_type": "markdown",
   "id": "5227861b",
   "metadata": {},
   "source": [
    "## DIALS\n",
    "* Autentication\n",
    "* Monitoring Elements Retrieval"
   ]
  },
  {
   "cell_type": "code",
   "execution_count": null,
   "id": "d160df39",
   "metadata": {
    "scrolled": true
   },
   "outputs": [],
   "source": [
    "# Autentication\n",
    "creds = Credentials.from_creds_file()\n",
    "# workspace definition\n",
    "dials = Dials(creds, workspace=\"csc\")"
   ]
  },
  {
   "cell_type": "code",
   "execution_count": null,
   "id": "bb661984",
   "metadata": {},
   "outputs": [],
   "source": [
    "# Run List: 380292, 380310, 380355, 380377, 380385, 380399, 380444\n",
    "\n",
    "my_runs = [380292, 380310, 380355, 380377, 380385, 380399, 380444]"
   ]
  },
  {
   "cell_type": "code",
   "execution_count": null,
   "id": "ab96d449",
   "metadata": {},
   "outputs": [],
   "source": [
    "run_list_df = dials.run.list_all(\n",
    "    RunFilters(\n",
    "        run_number__gte=380292,\n",
    "        run_number__lte=380444\n",
    "    )\n",
    ").to_pandas()"
   ]
  },
  {
   "cell_type": "code",
   "execution_count": null,
   "id": "dc507ea2",
   "metadata": {},
   "outputs": [],
   "source": [
    "run_list_df.head()"
   ]
  },
  {
   "cell_type": "code",
   "execution_count": null,
   "id": "f4a3a923",
   "metadata": {},
   "outputs": [],
   "source": [
    "run_list = run_list_df[\"run_number\"].to_numpy()"
   ]
  },
  {
   "cell_type": "code",
   "execution_count": null,
   "id": "db2dd72b",
   "metadata": {
    "scrolled": true
   },
   "outputs": [],
   "source": [
    "my_runs_new = [i for i in my_runs if i in run_list]"
   ]
  },
  {
   "cell_type": "code",
   "execution_count": null,
   "id": "adcfd56f",
   "metadata": {},
   "outputs": [],
   "source": [
    "print(my_runs)\n",
    "print(my_runs_new)"
   ]
  },
  {
   "cell_type": "code",
   "execution_count": null,
   "id": "3138a7ce",
   "metadata": {},
   "outputs": [],
   "source": [
    "from cmsdials.filters import LumisectionHistogram2DFilters\n",
    "start_time = time.perf_counter()\n",
    "data = []\n",
    "for i, run in enumerate(my_runs_new):\n",
    "    data_temp = dials.h2d.list_all(\n",
    "        LumisectionHistogram2DFilters(\n",
    "            me = \"CSC/CSCOfflineMonitor/recHits/hRHGlobalm2\",\n",
    "            dataset = \"/StreamExpress/Run2024D-Express-v1/DQMIO\",\n",
    "            run_number = run,\n",
    "        ),\n",
    "        enable_progress=True,\n",
    "    ).to_pandas()\n",
    "    data.append(data_temp)\n",
    "    del data_temp\n",
    "data = pd.concat(data, axis=0)\n",
    "end_time = time.perf_counter()\n",
    "print(f\"Execution time: {end_time - start_time:.4f} seconds\")"
   ]
  },
  {
   "cell_type": "code",
   "execution_count": null,
   "id": "b5d0d357",
   "metadata": {},
   "outputs": [],
   "source": [
    "out_name=\"data_m2.parquet\"\n",
    "data.to_parquet(out_name)"
   ]
  },
  {
   "cell_type": "code",
   "execution_count": null,
   "id": "da6c7f3a",
   "metadata": {},
   "outputs": [],
   "source": [
    "data = pd.read_parquet(out_name)"
   ]
  },
  {
   "cell_type": "markdown",
   "id": "bd0a0df9",
   "metadata": {},
   "source": [
    "## Pre-precessing\n",
    "* Merge ME with OMS and RunRegistry info\n",
    "* Selections ad siscussed in slides\n",
    "* Summing of consecutive LSs"
   ]
  },
  {
   "cell_type": "code",
   "execution_count": null,
   "id": "51bdb2af",
   "metadata": {},
   "outputs": [],
   "source": [
    "# Per-LS meta-info retrieved form OMS and RunRegistry\n",
    "lumi_info = pd.read_parquet(\"perLSinfo.parquet\")"
   ]
  },
  {
   "cell_type": "code",
   "execution_count": null,
   "id": "267a1ce3",
   "metadata": {},
   "outputs": [],
   "source": [
    "#Merging MEs with OMS and RunRegistry info\n",
    "monitoring_elements = pd.merge(data, lumi_info, on=['run_number', 'ls_number'], how='left') \n",
    "#Filtering (see slides)\n",
    "monitoring_elements = monitoring_elements[\n",
    "    (monitoring_elements[\"beams_stable\"] == True) &\n",
    "    (monitoring_elements[\"cscm_ready\"] == True) &\n",
    "    (monitoring_elements[\"cms_active\"] == True) &\n",
    "    (monitoring_elements[\"beam_present\"] == True) &\n",
    "    (monitoring_elements[\"physics_flag\"] == True) &\n",
    "    (monitoring_elements[\"cscSTANDBY\"] == 0) &\n",
    "    (monitoring_elements[\"cscBAD\"] == 0) &\n",
    "    (monitoring_elements[\"cscGOOD\"] != 0) &\n",
    "    (monitoring_elements[\"mean_lumi\"] > 2) &\n",
    "    (monitoring_elements[\"class\"].str.contains(\"Collisions\", na=False))\n",
    "]\n",
    "monitoring_elements = monitoring_elements.sort_values(by=['run_number', 'ls_number']).reset_index()\n",
    "monitoring_elements = monitoring_elements.drop(columns=[\"index\"])"
   ]
  },
  {
   "cell_type": "code",
   "execution_count": null,
   "id": "0d416482",
   "metadata": {},
   "outputs": [],
   "source": [
    "monitoring_elements.head()"
   ]
  },
  {
   "cell_type": "code",
   "execution_count": null,
   "id": "08bb7921",
   "metadata": {},
   "outputs": [],
   "source": [
    "# Defining \"group\" column (based on Run number and instantaneous luminosity)\n",
    "monitoring_elements[\"group\"] = groupbylumi(monitoring_elements, 300)"
   ]
  },
  {
   "cell_type": "code",
   "execution_count": null,
   "id": "dd48145d",
   "metadata": {},
   "outputs": [],
   "source": [
    "# Summing elements in the same group\n",
    "summed_data = monitoring_elements.groupby(\"group\").apply(sum_imgs)\n",
    "summed_data = summed_data[summed_data[\"lumi\"]>300]\n",
    "summed_data = summed_data.reset_index()"
   ]
  },
  {
   "cell_type": "code",
   "execution_count": null,
   "id": "e3083784",
   "metadata": {},
   "outputs": [],
   "source": [
    "summed_data.head()"
   ]
  },
  {
   "cell_type": "code",
   "execution_count": null,
   "id": "073723e9",
   "metadata": {},
   "outputs": [],
   "source": [
    "Show2Dimg(summed_data[\"img\"][0])"
   ]
  },
  {
   "cell_type": "code",
   "execution_count": null,
   "id": "7762ce06",
   "metadata": {},
   "outputs": [],
   "source": [
    "# Removing CSC external ring\n",
    "summed_data[\"new_img\"] = summed_data.apply(\n",
    "    lambda row: mask_outside_radius(row[\"img\"], center=(49.5, 49.5), max_distance=21), axis=1\n",
    ")"
   ]
  },
  {
   "cell_type": "code",
   "execution_count": null,
   "id": "bb274c01",
   "metadata": {},
   "outputs": [],
   "source": [
    "Show2Dimg(summed_data[\"new_img\"][0]);"
   ]
  },
  {
   "cell_type": "markdown",
   "id": "b8c72458",
   "metadata": {},
   "source": [
    "## Model Predictions and Loss Computation\n",
    "* Import pre-trained model\n",
    "* Compute predictions and Loss mapp\n",
    "* Rebinn the Loss map"
   ]
  },
  {
   "cell_type": "code",
   "execution_count": null,
   "id": "efd06205",
   "metadata": {},
   "outputs": [],
   "source": [
    "import torch\n",
    "import torch.nn as nn\n",
    "import torch.nn.functional as F\n",
    "import torch.optim as optim\n",
    "from torch.utils.data import DataLoader, TensorDataset\n",
    "from torchvision import datasets, transforms"
   ]
  },
  {
   "cell_type": "code",
   "execution_count": null,
   "id": "1c114121",
   "metadata": {},
   "outputs": [],
   "source": [
    "# Loading ML model \n",
    "model = torch.jit.load(\"model_m2.pth\")"
   ]
  },
  {
   "cell_type": "code",
   "execution_count": null,
   "id": "1ec50f93",
   "metadata": {},
   "outputs": [],
   "source": [
    "start_time = time.perf_counter()\n",
    "print(f\"Number of immages to be processed: {len(summed_data)}\")\n",
    "tensor = torch.stack([torch.tensor(m, dtype=torch.float32).unsqueeze(0) for m in summed_data[\"new_img\"]])\n",
    "loader = DataLoader(dataset=tensor, batch_size=128, num_workers=8, shuffle=False)\n",
    "\n",
    "imgs, reco_imgs, loss_imgs = [], [], []\n",
    "\n",
    "model.eval()\n",
    "with torch.no_grad():\n",
    "    for img_batch in loader:\n",
    "        # Computing Model predinctions: model(img)--> reco_img \n",
    "        reco_img_batch = model(img_batch)\n",
    "        # Computing Loss as (img-reco_img)/reco_img\n",
    "        img_loss_batch = (img_batch - reco_img_batch)[:, 0] / reco_img_batch[:, 0]\n",
    "        loss_imgs.extend(img_loss_batch.numpy())\n",
    "        reco_imgs.extend(reco_img_batch[:, 0].numpy())\n",
    "        imgs.extend(img_batch[:, 0].numpy())\n",
    "        print(\".\", end=\"\", flush=True)\n",
    "end_time = time.perf_counter()\n",
    "print(f\"\\nExecution time: {end_time - start_time:.4f} seconds\")"
   ]
  },
  {
   "cell_type": "markdown",
   "id": "c19ccea0",
   "metadata": {},
   "source": [
    "**Curiosity:** GPUs can be used to accelerate inference. In the example above, processing 189 images took around one minute, while with GPUs, 14.5 thousand images are processed in less than 10 seconds.![GIF](https://media3.giphy.com/media/v1.Y2lkPTc5MGI3NjExMno5Y2VwcmpqMnAweGczcnkxMWRwYWdtanMxYXdjdjF0NGprYzNvaiZlcD12MV9pbnRlcm5hbF9naWZfYnlfaWQmY3Q9Zw/26ufdipQqU2lhNA4g/giphy.gif)"
   ]
  },
  {
   "cell_type": "code",
   "execution_count": null,
   "id": "6abb816a",
   "metadata": {},
   "outputs": [],
   "source": [
    "out_name = \"processed_images_m2.npz\"\n",
    "np.savez(out_name, imgs=imgs, reco_imgs=reco_imgs, loss_imgs=loss_imgs)"
   ]
  },
  {
   "cell_type": "code",
   "execution_count": null,
   "id": "966e4f4c",
   "metadata": {},
   "outputs": [],
   "source": [
    "data = np.load(out_name)\n",
    "imgs = data['imgs']\n",
    "reco_imgs = data['reco_imgs']\n",
    "loss_imgs = data['loss_imgs']"
   ]
  },
  {
   "cell_type": "markdown",
   "id": "b40d26e8",
   "metadata": {},
   "source": [
    "**Note:** The Loss map exhibits fluctuations that can lead to false positives. For this reason, we rebin the loss according to the geometry of the CSCs."
   ]
  },
  {
   "cell_type": "code",
   "execution_count": null,
   "id": "23c1a4c7",
   "metadata": {},
   "outputs": [],
   "source": [
    "# Example of loss\n",
    "Show2DLoss(loss_imgs[1])"
   ]
  },
  {
   "cell_type": "code",
   "execution_count": null,
   "id": "3529781b",
   "metadata": {},
   "outputs": [],
   "source": [
    "# Rebinning Loss based on expected anomalies (see slides)\n",
    "binary_matrix = (np.mean(np.sum([imgs, reco_imgs], axis=0), axis=0) != 0)\n",
    "loss_imgs = [np.where(np.isinf(matrix), 2, matrix) for matrix in loss_imgs]\n",
    "rebin_loss_imgs = [rebin_image(image, binary_matrix) for image in loss_imgs]"
   ]
  },
  {
   "cell_type": "code",
   "execution_count": null,
   "id": "488338a6",
   "metadata": {},
   "outputs": [],
   "source": [
    "# Example of rebinned-loss\n",
    "Show2DLoss(rebin_loss_imgs[1])"
   ]
  },
  {
   "cell_type": "markdown",
   "id": "e63db599",
   "metadata": {},
   "source": [
    "## Study of the Maximum and Minimum of the Loss \n",
    "* Study the distribution of the maximum and minimum of the rebinned loss\n",
    "* Apply thresholds\n",
    "* Identify Anomalies\n",
    "\n",
    "Note: The thresholds shown in the figures below are those obtained from the optimization described in the slides."
   ]
  },
  {
   "cell_type": "code",
   "execution_count": null,
   "id": "29c636ca",
   "metadata": {},
   "outputs": [],
   "source": [
    "# Computing Maximum and Minimum of the rebinned Loss\n",
    "summed_data[\"Max\"] = [np.nanmax(matrix) for matrix in rebin_loss_imgs]\n",
    "summed_data[\"Min\"] = [np.nanmin(matrix) for matrix in rebin_loss_imgs]"
   ]
  },
  {
   "cell_type": "code",
   "execution_count": null,
   "id": "198f3e20",
   "metadata": {
    "scrolled": false
   },
   "outputs": [],
   "source": [
    "# Distribution of the Maximum\n",
    "fig, ax = plt.subplots(figsize=(8, 5))\n",
    "ax.hist(summed_data[\"Max\"], bins=70, color='red', alpha=0.7, label=\"Max Values\")\n",
    "ax.axvline(x=0.86, color='black', linestyle='dashed', linewidth=2, label=\"Threshold\")\n",
    "\n",
    "ax.set_xlabel(\"Max Loss\")\n",
    "\n",
    "plt.show()"
   ]
  },
  {
   "cell_type": "code",
   "execution_count": null,
   "id": "0b8e5542",
   "metadata": {},
   "outputs": [],
   "source": [
    "# Distribution of the Minimum\n",
    "fig, ax = plt.subplots(figsize=(8, 5))\n",
    "ax.hist(summed_data[\"Min\"], bins=70, color='blue', alpha=0.7, label=\"Min Values\")\n",
    "ax.axvline(x=-0.52, color='black', linestyle='dashed', linewidth=2, label=\"Threshold\")\n",
    "\n",
    "ax.set_xlabel(\"Min Loss\")\n",
    "\n",
    "plt.show()"
   ]
  },
  {
   "cell_type": "code",
   "execution_count": null,
   "id": "d5a2b8f7",
   "metadata": {},
   "outputs": [],
   "source": [
    "# Application of the optimized thresholds (see slides) \n",
    "summed_data_filter = summed_data[(summed_data[\"Max\"]>0.86) | (summed_data[\"Min\"]<-0.52)]"
   ]
  },
  {
   "cell_type": "code",
   "execution_count": null,
   "id": "498e3af0",
   "metadata": {},
   "outputs": [],
   "source": [
    "np.unique(summed_data_filter[\"run_max\"])"
   ]
  },
  {
   "cell_type": "code",
   "execution_count": null,
   "id": "118b7c08",
   "metadata": {
    "scrolled": true
   },
   "outputs": [],
   "source": [
    "summed_data_filter"
   ]
  },
  {
   "cell_type": "code",
   "execution_count": null,
   "id": "8dc39a48",
   "metadata": {},
   "outputs": [],
   "source": [
    "show_img_reco_Loss(imgs, reco_imgs, rebin_loss_imgs, 8)"
   ]
  },
  {
   "cell_type": "code",
   "execution_count": null,
   "id": "36ddc67a",
   "metadata": {
    "scrolled": false
   },
   "outputs": [],
   "source": [
    "#plot_LSs(monitoring_elements, 380399, (168, 182))"
   ]
  },
  {
   "cell_type": "markdown",
   "id": "2479ea9b",
   "metadata": {},
   "source": [
    "## Your Turn!  \n",
    "\n",
    "Now it's your turn! Try running the code again to look for anomalies in the CSC station (-3) associated with this monitoring element:  \n",
    "\n",
    "**CSC/CSCOfflineMonitor/recHits/hRHGlobalm3**  \n",
    "\n",
    "Focus on the following runs: **382227, 382329, 382258, 382686** in the dataset:  \n",
    "\n",
    "**/StreamExpress/Run2024F-Express-v1/DQMIO**  \n",
    "\n",
    "Use the model **model_m3.pth** specifically trained for this ME"
   ]
  },
  {
   "cell_type": "code",
   "execution_count": null,
   "id": "cf067c08",
   "metadata": {},
   "outputs": [],
   "source": []
  }
 ],
 "metadata": {
  "@webio": {
   "lastCommId": null,
   "lastKernelId": null
  },
  "kernelspec": {
   "display_name": "Python 3",
   "language": "python",
   "name": "python3"
  },
  "language_info": {
   "codemirror_mode": {
    "name": "ipython",
    "version": 3
   },
   "file_extension": ".py",
   "mimetype": "text/x-python",
   "name": "python",
   "nbconvert_exporter": "python",
   "pygments_lexer": "ipython3",
   "version": "3.11.9"
  }
 },
 "nbformat": 4,
 "nbformat_minor": 5
}
